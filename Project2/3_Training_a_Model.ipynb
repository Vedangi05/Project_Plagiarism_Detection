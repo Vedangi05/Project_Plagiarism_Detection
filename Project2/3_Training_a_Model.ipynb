{
  "nbformat": 4,
  "nbformat_minor": 0,
  "metadata": {
    "kernelspec": {
      "display_name": "conda_pytorch_p36",
      "language": "python",
      "name": "conda_pytorch_p36"
    },
    "language_info": {
      "codemirror_mode": {
        "name": "ipython",
        "version": 3
      },
      "file_extension": ".py",
      "mimetype": "text/x-python",
      "name": "python",
      "nbconvert_exporter": "python",
      "pygments_lexer": "ipython3",
      "version": "3.6.10"
    },
    "colab": {
      "name": "3_Training_a_Model.ipynb",
      "provenance": []
    }
  },
  "cells": [
    {
      "cell_type": "markdown",
      "metadata": {
        "id": "3csYKyTl0A-k"
      },
      "source": [
        "# Plagiarism Detection Model\n",
        "\n",
        "Now that you've created training and test data, you are ready to define and train a model. Your goal in this notebook, will be to train a binary classification model that learns to label an answer file as either plagiarized or not, based on the features you provide the model.\n",
        "\n",
        "This task will be broken down into a few discrete steps:\n",
        "\n",
        "* Upload your data to S3.\n",
        "* Define a binary classification model and a training script.\n",
        "* Train your model and deploy it.\n",
        "* Evaluate your deployed classifier and answer some questions about your approach.\n",
        "\n",
        "To complete this notebook, you'll have to complete all given exercises and answer all the questions in this notebook.\n",
        "> All your tasks will be clearly labeled **EXERCISE** and questions as **QUESTION**.\n",
        "\n",
        "It will be up to you to explore different classification models and decide on a model that gives you the best performance for this dataset.\n",
        "\n",
        "---"
      ]
    },
    {
      "cell_type": "markdown",
      "metadata": {
        "id": "4-DiFMQe0A-p"
      },
      "source": [
        "## Load Data to S3\n",
        "\n",
        "In the last notebook, you should have created two files: a `training.csv` and `test.csv` file with the features and class labels for the given corpus of plagiarized/non-plagiarized text data. \n",
        "\n",
        ">The below cells load in some AWS SageMaker libraries and creates a default bucket. After creating this bucket, you can upload your locally stored data to S3.\n",
        "\n",
        "Save your train and test `.csv` feature files, locally. To do this you can run the second notebook \"2_Plagiarism_Feature_Engineering\" in SageMaker or you can manually upload your files to this notebook using the upload icon in Jupyter Lab. Then you can upload local files to S3 by using `sagemaker_session.upload_data` and pointing directly to where the training data is saved."
      ]
    },
    {
      "cell_type": "code",
      "metadata": {
        "id": "ftGlZ-uO0A-q"
      },
      "source": [
        "import pandas as pd\n",
        "import boto3\n",
        "import sagemaker"
      ],
      "execution_count": null,
      "outputs": []
    },
    {
      "cell_type": "code",
      "metadata": {
        "id": "2RnfvdIr0A-r"
      },
      "source": [
        "\n",
        "\"\"\"\n",
        "DON'T MODIFY ANYTHING IN THIS CELL THAT IS BELOW THIS LINE\n",
        "\"\"\"\n",
        "# session and role\n",
        "sagemaker_session = sagemaker.Session()\n",
        "role = sagemaker.get_execution_role()\n",
        "\n",
        "# create an S3 bucket\n",
        "bucket = sagemaker_session.default_bucket()"
      ],
      "execution_count": null,
      "outputs": []
    },
    {
      "cell_type": "markdown",
      "metadata": {
        "id": "Rz-FmNZL0A-s"
      },
      "source": [
        "## EXERCISE: Upload your training data to S3\n",
        "\n",
        "Specify the `data_dir` where you've saved your `train.csv` file. Decide on a descriptive `prefix` that defines where your data will be uploaded in the default S3 bucket. Finally, create a pointer to your training data by calling `sagemaker_session.upload_data` and passing in the required parameters. It may help to look at the [Session documentation](https://sagemaker.readthedocs.io/en/stable/session.html#sagemaker.session.Session.upload_data) or previous SageMaker code examples.\n",
        "\n",
        "You are expected to upload your entire directory. Later, the training script will only access the `train.csv` file."
      ]
    },
    {
      "cell_type": "code",
      "metadata": {
        "id": "F_M29NDz0A-s",
        "outputId": "7e79371d-8260-45e9-ced0-54410ec1bff5"
      },
      "source": [
        "\n",
        "# should be the name of directory you created to save your features data\n",
        "data_dir = 'plagiarism_data'\n",
        "\n",
        "# set prefix, a descriptive name for a directory  \n",
        "prefix = 'plagiarism_detection'\n",
        "\n",
        "# upload all data to S3\n",
        "input_data = sagemaker_session.upload_data(path=data_dir, bucket=bucket, key_prefix=prefix)\n",
        "print(input_data)"
      ],
      "execution_count": null,
      "outputs": [
        {
          "output_type": "stream",
          "text": [
            "s3://sagemaker-ap-south-1-196970442477/plagiarism_detection\n"
          ],
          "name": "stdout"
        }
      ]
    },
    {
      "cell_type": "markdown",
      "metadata": {
        "id": "xXJerviy0A-t"
      },
      "source": [
        "### Test cell\n",
        "\n",
        "Test that your data has been successfully uploaded. The below cell prints out the items in your S3 bucket and will throw an error if it is empty. You should see the contents of your `data_dir` and perhaps some checkpoints. If you see any other files listed, then you may have some old model files that you can delete via the S3 console (though, additional files shouldn't affect the performance of model developed in this notebook)."
      ]
    },
    {
      "cell_type": "code",
      "metadata": {
        "id": "dl_mQv5I0A-t",
        "outputId": "846166f0-3471-48a6-acb8-bfc7dfce2cd7"
      },
      "source": [
        "\"\"\"\n",
        "DON'T MODIFY ANYTHING IN THIS CELL THAT IS BELOW THIS LINE\n",
        "\"\"\"\n",
        "# confirm that data is in S3 bucket\n",
        "empty_check = []\n",
        "for obj in boto3.resource('s3').Bucket(bucket).objects.all():\n",
        "    empty_check.append(obj.key)\n",
        "    print(obj.key)\n",
        "\n",
        "assert len(empty_check) !=0, 'S3 bucket is empty.'\n",
        "print('Test passed!')"
      ],
      "execution_count": null,
      "outputs": [
        {
          "output_type": "stream",
          "text": [
            "plagiarism_detection/test.csv\n",
            "plagiarism_detection/train.csv\n",
            "sagemaker-pytorch-2021-02-02-19-29-52-782/debug-output/training_job_end.ts\n",
            "sagemaker-pytorch-2021-02-02-19-29-52-782/output/model.tar.gz\n",
            "sagemaker-pytorch-2021-02-02-19-29-52-782/source/sourcedir.tar.gz\n",
            "sagemaker-pytorch-2021-02-02-19-37-57-021/sourcedir.tar.gz\n",
            "sagemaker-pytorch-2021-02-02-19-50-10-053/sourcedir.tar.gz\n",
            "sagemaker-pytorch-2021-02-03-10-11-48-014/sourcedir.tar.gz\n",
            "sagemaker-pytorch-2021-02-04-06-03-53-633/sourcedir.tar.gz\n",
            "sagemaker-pytorch-2021-02-07-08-09-00-829/sourcedir.tar.gz\n",
            "sagemaker-pytorch-2021-02-07-08-45-46-089/debug-output/training_job_end.ts\n",
            "sagemaker-pytorch-2021-02-07-08-45-46-089/output/model.tar.gz\n",
            "sagemaker-pytorch-2021-02-07-08-45-46-089/source/sourcedir.tar.gz\n",
            "sagemaker-pytorch-2021-02-07-08-53-30-652/sourcedir.tar.gz\n",
            "sagemaker-pytorch-2021-02-07-09-03-17-968/sourcedir.tar.gz\n",
            "sagemaker-pytorch-2021-02-07-15-20-08-549/sourcedir.tar.gz\n",
            "sagemaker-pytorch-2021-02-07-15-26-40-432/debug-output/training_job_end.ts\n",
            "sagemaker-pytorch-2021-02-07-15-26-40-432/output/model.tar.gz\n",
            "sagemaker-pytorch-2021-02-07-15-26-40-432/source/sourcedir.tar.gz\n",
            "sagemaker-pytorch-2021-02-07-15-42-31-362/sourcedir.tar.gz\n",
            "sagemaker-pytorch-2021-02-09-05-53-12-697/debug-output/training_job_end.ts\n",
            "sagemaker-pytorch-2021-02-09-05-53-12-697/output/model.tar.gz\n",
            "sagemaker-pytorch-2021-02-09-05-53-12-697/source/sourcedir.tar.gz\n",
            "sagemaker-pytorch-2021-02-09-06-00-57-322/sourcedir.tar.gz\n",
            "sagemaker-pytorch-2021-02-09-08-11-35-510/sourcedir.tar.gz\n",
            "sagemaker-pytorch-2021-02-09-08-47-59-004/debug-output/training_job_end.ts\n",
            "sagemaker-pytorch-2021-02-09-08-47-59-004/output/model.tar.gz\n",
            "sagemaker-pytorch-2021-02-09-08-47-59-004/source/sourcedir.tar.gz\n",
            "sagemaker-pytorch-2021-02-09-08-53-12-654/sourcedir.tar.gz\n",
            "sagemaker-pytorch-2021-02-09-09-21-51-544/sourcedir.tar.gz\n",
            "sagemaker-pytorch-2021-02-09-09-41-09-166/sourcedir.tar.gz\n",
            "sagemaker-pytorch-2021-02-09-09-52-16-146/sourcedir.tar.gz\n",
            "sagemaker-pytorch-2021-02-09-10-03-41-845/sourcedir.tar.gz\n",
            "sagemaker/sentiment_rnn/train.csv\n",
            "sagemaker/sentiment_rnn/word_dict.pkl\n",
            "Test passed!\n"
          ],
          "name": "stdout"
        }
      ]
    },
    {
      "cell_type": "markdown",
      "metadata": {
        "id": "3dufby500A-u"
      },
      "source": [
        "---\n",
        "\n",
        "# Modeling\n",
        "\n",
        "Now that you've uploaded your training data, it's time to define and train a model!\n",
        "\n",
        "The type of model you create is up to you. For a binary classification task, you can choose to go one of three routes:\n",
        "* Use a built-in classification algorithm, like LinearLearner.\n",
        "* Define a custom Scikit-learn classifier, a comparison of models can be found [here](https://scikit-learn.org/stable/auto_examples/classification/plot_classifier_comparison.html).\n",
        "* Define a custom PyTorch neural network classifier. \n",
        "\n",
        "It will be up to you to test out a variety of models and choose the best one. Your project will be graded on the accuracy of your final model. \n",
        " \n",
        "---\n",
        "\n",
        "## EXERCISE: Complete a training script \n",
        "\n",
        "To implement a custom classifier, you'll need to complete a `train.py` script. You've been given the folders `source_sklearn` and `source_pytorch` which hold starting code for a custom Scikit-learn model and a PyTorch model, respectively. Each directory has a `train.py` training script. To complete this project **you only need to complete one of these scripts**; the script that is responsible for training your final model.\n",
        "\n",
        "A typical training script:\n",
        "* Loads training data from a specified directory\n",
        "* Parses any training & model hyperparameters (ex. nodes in a neural network, training epochs, etc.)\n",
        "* Instantiates a model of your design, with any specified hyperparams\n",
        "* Trains that model \n",
        "* Finally, saves the model so that it can be hosted/deployed, later\n",
        "\n",
        "### Defining and training a model\n",
        "Much of the training script code is provided for you. Almost all of your work will be done in the `if __name__ == '__main__':` section. To complete a `train.py` file, you will:\n",
        "1. Import any extra libraries you need\n",
        "2. Define any additional model training hyperparameters using `parser.add_argument`\n",
        "2. Define a model in the `if __name__ == '__main__':` section\n",
        "3. Train the model in that same section\n",
        "\n",
        "Below, you can use `!pygmentize` to display an existing `train.py` file. Read through the code; all of your tasks are marked with `TODO` comments. \n",
        "\n",
        "**Note: If you choose to create a custom PyTorch model, you will be responsible for defining the model in the `model.py` file,** and a `predict.py` file is provided. If you choose to use Scikit-learn, you only need a `train.py` file; you may import a classifier from the `sklearn` library."
      ]
    },
    {
      "cell_type": "code",
      "metadata": {
        "id": "ch9Rtgtg0A-u",
        "outputId": "49fad398-80f6-4bb7-b27c-4fc9ffb7b9fa"
      },
      "source": [
        "# directory can be changed to: source_sklearn or source_pytorch\n",
        "!pygmentize source_sklearn/train.py"
      ],
      "execution_count": null,
      "outputs": [
        {
          "output_type": "stream",
          "text": [
            "\u001b[34mfrom\u001b[39;49;00m \u001b[04m\u001b[36m__future__\u001b[39;49;00m \u001b[34mimport\u001b[39;49;00m print_function\r\n",
            "\r\n",
            "\u001b[34mimport\u001b[39;49;00m \u001b[04m\u001b[36margparse\u001b[39;49;00m\r\n",
            "\u001b[34mimport\u001b[39;49;00m \u001b[04m\u001b[36mos\u001b[39;49;00m\r\n",
            "\u001b[34mimport\u001b[39;49;00m \u001b[04m\u001b[36mpandas\u001b[39;49;00m \u001b[34mas\u001b[39;49;00m \u001b[04m\u001b[36mpd\u001b[39;49;00m\r\n",
            "\r\n",
            "\u001b[37m# sklearn.externals.joblib is deprecated in 0.21 and will be removed in 0.23. \u001b[39;49;00m\r\n",
            "\u001b[37m# from sklearn.externals import joblib\u001b[39;49;00m\r\n",
            "\u001b[37m# Import joblib package directly\u001b[39;49;00m\r\n",
            "\u001b[34mimport\u001b[39;49;00m \u001b[04m\u001b[36mjoblib\u001b[39;49;00m\r\n",
            "\r\n",
            "\u001b[37m## TODO: Import any additional libraries you need to define a model\u001b[39;49;00m\r\n",
            "\r\n",
            "\r\n",
            "\u001b[37m# Provided model load function\u001b[39;49;00m\r\n",
            "\u001b[34mdef\u001b[39;49;00m \u001b[32mmodel_fn\u001b[39;49;00m(model_dir):\r\n",
            "    \u001b[33m\"\"\"Load model from the model_dir. This is the same model that is saved\u001b[39;49;00m\r\n",
            "\u001b[33m    in the main if statement.\u001b[39;49;00m\r\n",
            "\u001b[33m    \"\"\"\u001b[39;49;00m\r\n",
            "    \u001b[36mprint\u001b[39;49;00m(\u001b[33m\"\u001b[39;49;00m\u001b[33mLoading model.\u001b[39;49;00m\u001b[33m\"\u001b[39;49;00m)\r\n",
            "    \r\n",
            "    \u001b[37m# load using joblib\u001b[39;49;00m\r\n",
            "    model = joblib.load(os.path.join(model_dir, \u001b[33m\"\u001b[39;49;00m\u001b[33mmodel.joblib\u001b[39;49;00m\u001b[33m\"\u001b[39;49;00m))\r\n",
            "    \u001b[36mprint\u001b[39;49;00m(\u001b[33m\"\u001b[39;49;00m\u001b[33mDone loading model.\u001b[39;49;00m\u001b[33m\"\u001b[39;49;00m)\r\n",
            "    \r\n",
            "    \u001b[34mreturn\u001b[39;49;00m model\r\n",
            "\r\n",
            "\r\n",
            "\u001b[37m## TODO: Complete the main code\u001b[39;49;00m\r\n",
            "\u001b[34mif\u001b[39;49;00m \u001b[31m__name__\u001b[39;49;00m == \u001b[33m'\u001b[39;49;00m\u001b[33m__main__\u001b[39;49;00m\u001b[33m'\u001b[39;49;00m:\r\n",
            "    \r\n",
            "    \u001b[37m# All of the model parameters and training parameters are sent as arguments\u001b[39;49;00m\r\n",
            "    \u001b[37m# when this script is executed, during a training job\u001b[39;49;00m\r\n",
            "    \r\n",
            "    \u001b[37m# Here we set up an argument parser to easily access the parameters\u001b[39;49;00m\r\n",
            "    parser = argparse.ArgumentParser()\r\n",
            "\r\n",
            "    \u001b[37m# SageMaker parameters, like the directories for training data and saving models; set automatically\u001b[39;49;00m\r\n",
            "    \u001b[37m# Do not need to change\u001b[39;49;00m\r\n",
            "    parser.add_argument(\u001b[33m'\u001b[39;49;00m\u001b[33m--output-data-dir\u001b[39;49;00m\u001b[33m'\u001b[39;49;00m, \u001b[36mtype\u001b[39;49;00m=\u001b[36mstr\u001b[39;49;00m, default=os.environ[\u001b[33m'\u001b[39;49;00m\u001b[33mSM_OUTPUT_DATA_DIR\u001b[39;49;00m\u001b[33m'\u001b[39;49;00m])\r\n",
            "    parser.add_argument(\u001b[33m'\u001b[39;49;00m\u001b[33m--model-dir\u001b[39;49;00m\u001b[33m'\u001b[39;49;00m, \u001b[36mtype\u001b[39;49;00m=\u001b[36mstr\u001b[39;49;00m, default=os.environ[\u001b[33m'\u001b[39;49;00m\u001b[33mSM_MODEL_DIR\u001b[39;49;00m\u001b[33m'\u001b[39;49;00m])\r\n",
            "    parser.add_argument(\u001b[33m'\u001b[39;49;00m\u001b[33m--data-dir\u001b[39;49;00m\u001b[33m'\u001b[39;49;00m, \u001b[36mtype\u001b[39;49;00m=\u001b[36mstr\u001b[39;49;00m, default=os.environ[\u001b[33m'\u001b[39;49;00m\u001b[33mSM_CHANNEL_TRAIN\u001b[39;49;00m\u001b[33m'\u001b[39;49;00m])\r\n",
            "    \r\n",
            "    \u001b[37m## TODO: Add any additional arguments that you will need to pass into your model\u001b[39;49;00m\r\n",
            "    \r\n",
            "    \u001b[37m# args holds all passed-in arguments\u001b[39;49;00m\r\n",
            "    args = parser.parse_args()\r\n",
            "\r\n",
            "    \u001b[37m# Read in csv training file\u001b[39;49;00m\r\n",
            "    training_dir = args.data_dir\r\n",
            "    train_data = pd.read_csv(os.path.join(training_dir, \u001b[33m\"\u001b[39;49;00m\u001b[33mtrain.csv\u001b[39;49;00m\u001b[33m\"\u001b[39;49;00m), header=\u001b[34mNone\u001b[39;49;00m, names=\u001b[34mNone\u001b[39;49;00m)\r\n",
            "\r\n",
            "    \u001b[37m# Labels are in the first column\u001b[39;49;00m\r\n",
            "    train_y = train_data.iloc[:,\u001b[34m0\u001b[39;49;00m]\r\n",
            "    train_x = train_data.iloc[:,\u001b[34m1\u001b[39;49;00m:]\r\n",
            "    \r\n",
            "    \r\n",
            "    \u001b[37m## --- Your code here --- ##\u001b[39;49;00m\r\n",
            "    \r\n",
            "\r\n",
            "    \u001b[37m## TODO: Define a model \u001b[39;49;00m\r\n",
            "    model = \u001b[34mNone\u001b[39;49;00m\r\n",
            "    \r\n",
            "    \r\n",
            "    \u001b[37m## TODO: Train the model\u001b[39;49;00m\r\n",
            "    \r\n",
            "    \r\n",
            "    \r\n",
            "    \u001b[37m## --- End of your code  --- ##\u001b[39;49;00m\r\n",
            "    \r\n",
            "\r\n",
            "    \u001b[37m# Save the trained model\u001b[39;49;00m\r\n",
            "    joblib.dump(model, os.path.join(args.model_dir, \u001b[33m\"\u001b[39;49;00m\u001b[33mmodel.joblib\u001b[39;49;00m\u001b[33m\"\u001b[39;49;00m))\r\n"
          ],
          "name": "stdout"
        }
      ]
    },
    {
      "cell_type": "markdown",
      "metadata": {
        "id": "ebSytTkG0A-v"
      },
      "source": [
        "### Provided code\n",
        "\n",
        "If you read the code above, you can see that the starter code includes a few things:\n",
        "* Model loading (`model_fn`) and saving code\n",
        "* Getting SageMaker's default hyperparameters\n",
        "* Loading the training data by name, `train.csv` and extracting the features and labels, `train_x`, and `train_y`\n",
        "\n",
        "If you'd like to read more about model saving with [joblib for sklearn](https://scikit-learn.org/stable/modules/model_persistence.html) or with [torch.save](https://pytorch.org/tutorials/beginner/saving_loading_models.html), click on the provided links."
      ]
    },
    {
      "cell_type": "markdown",
      "metadata": {
        "id": "9JjDR0n10A-w"
      },
      "source": [
        "---\n",
        "# Create an Estimator\n",
        "\n",
        "When a custom model is constructed in SageMaker, an entry point must be specified. This is the Python file which will be executed when the model is trained; the `train.py` function you specified above. To run a custom training script in SageMaker, construct an estimator, and fill in the appropriate constructor arguments:\n",
        "\n",
        "* **entry_point**: The path to the Python script SageMaker runs for training and prediction.\n",
        "* **source_dir**: The path to the training script directory `source_sklearn` OR `source_pytorch`.\n",
        "* **entry_point**: The path to the Python script SageMaker runs for training and prediction.\n",
        "* **source_dir**: The path to the training script directory `train_sklearn` OR `train_pytorch`.\n",
        "* **entry_point**: The path to the Python script SageMaker runs for training.\n",
        "* **source_dir**: The path to the training script directory `train_sklearn` OR `train_pytorch`.\n",
        "* **role**: Role ARN, which was specified, above.\n",
        "* **train_instance_count**: The number of training instances (should be left at 1).\n",
        "* **train_instance_type**: The type of SageMaker instance for training. Note: Because Scikit-learn does not natively support GPU training, Sagemaker Scikit-learn does not currently support training on GPU instance types.\n",
        "* **sagemaker_session**: The session used to train on Sagemaker.\n",
        "* **hyperparameters** (optional): A dictionary `{'name':value, ..}` passed to the train function as hyperparameters.\n",
        "\n",
        "Note: For a PyTorch model, there is another optional argument **framework_version**, which you can set to the latest version of PyTorch, `1.0`.\n",
        "\n",
        "## EXERCISE: Define a Scikit-learn or PyTorch estimator\n",
        "\n",
        "To import your desired estimator, use one of the following lines:\n",
        "```\n",
        "from sagemaker.sklearn.estimator import SKLearn\n",
        "```\n",
        "```\n",
        "from sagemaker.pytorch import PyTorch\n",
        "```"
      ]
    },
    {
      "cell_type": "code",
      "metadata": {
        "id": "Xz29Csl20A-w",
        "outputId": "135bbb6b-4cfb-4b5c-f6ae-69b9823b3f49"
      },
      "source": [
        "!pip install source /home/ec2-user/anaconda3/bin/activate tensorflow_p36"
      ],
      "execution_count": null,
      "outputs": [
        {
          "output_type": "stream",
          "text": [
            "\u001b[31mERROR: Invalid requirement: '/home/ec2-user/anaconda3/bin/activate'\r\n",
            "Hint: It looks like a path. The path does exist. \u001b[0m\r\n"
          ],
          "name": "stdout"
        }
      ]
    },
    {
      "cell_type": "code",
      "metadata": {
        "id": "PZc-jLAS0A-w",
        "outputId": "6fd43624-6ece-4f21-86f1-862aca8b390a"
      },
      "source": [
        "!pip install sagemaker==1.72.0"
      ],
      "execution_count": null,
      "outputs": [
        {
          "output_type": "stream",
          "text": [
            "Collecting sagemaker==1.72.0\n",
            "  Downloading sagemaker-1.72.0.tar.gz (297 kB)\n",
            "\u001b[K     |████████████████████████████████| 297 kB 3.0 MB/s eta 0:00:01\n",
            "\u001b[?25hRequirement already satisfied: boto3>=1.14.12 in /home/ec2-user/anaconda3/envs/pytorch_p36/lib/python3.6/site-packages (from sagemaker==1.72.0) (1.17.16)\n",
            "Requirement already satisfied: numpy>=1.9.0 in /home/ec2-user/anaconda3/envs/pytorch_p36/lib/python3.6/site-packages (from sagemaker==1.72.0) (1.18.1)\n",
            "Requirement already satisfied: protobuf>=3.1 in /home/ec2-user/anaconda3/envs/pytorch_p36/lib/python3.6/site-packages (from sagemaker==1.72.0) (3.11.4)\n",
            "Requirement already satisfied: scipy>=0.19.0 in /home/ec2-user/anaconda3/envs/pytorch_p36/lib/python3.6/site-packages (from sagemaker==1.72.0) (1.4.1)\n",
            "Requirement already satisfied: protobuf3-to-dict>=0.1.5 in /home/ec2-user/anaconda3/envs/pytorch_p36/lib/python3.6/site-packages (from sagemaker==1.72.0) (0.1.5)\n",
            "Collecting smdebug-rulesconfig==0.1.4\n",
            "  Downloading smdebug_rulesconfig-0.1.4-py2.py3-none-any.whl (10 kB)\n",
            "Requirement already satisfied: importlib-metadata>=1.4.0 in /home/ec2-user/anaconda3/envs/pytorch_p36/lib/python3.6/site-packages (from sagemaker==1.72.0) (3.4.0)\n",
            "Requirement already satisfied: packaging>=20.0 in /home/ec2-user/anaconda3/envs/pytorch_p36/lib/python3.6/site-packages (from sagemaker==1.72.0) (20.1)\n",
            "Requirement already satisfied: botocore<1.21.0,>=1.20.16 in /home/ec2-user/anaconda3/envs/pytorch_p36/lib/python3.6/site-packages (from boto3>=1.14.12->sagemaker==1.72.0) (1.20.16)\n",
            "Requirement already satisfied: s3transfer<0.4.0,>=0.3.0 in /home/ec2-user/anaconda3/envs/pytorch_p36/lib/python3.6/site-packages (from boto3>=1.14.12->sagemaker==1.72.0) (0.3.4)\n",
            "Requirement already satisfied: jmespath<1.0.0,>=0.7.1 in /home/ec2-user/anaconda3/envs/pytorch_p36/lib/python3.6/site-packages (from boto3>=1.14.12->sagemaker==1.72.0) (0.10.0)\n",
            "Requirement already satisfied: python-dateutil<3.0.0,>=2.1 in /home/ec2-user/anaconda3/envs/pytorch_p36/lib/python3.6/site-packages (from botocore<1.21.0,>=1.20.16->boto3>=1.14.12->sagemaker==1.72.0) (2.8.1)\n",
            "Requirement already satisfied: urllib3<1.27,>=1.25.4 in /home/ec2-user/anaconda3/envs/pytorch_p36/lib/python3.6/site-packages (from botocore<1.21.0,>=1.20.16->boto3>=1.14.12->sagemaker==1.72.0) (1.25.10)\n",
            "Requirement already satisfied: zipp>=0.5 in /home/ec2-user/anaconda3/envs/pytorch_p36/lib/python3.6/site-packages (from importlib-metadata>=1.4.0->sagemaker==1.72.0) (2.2.0)\n",
            "Requirement already satisfied: typing-extensions>=3.6.4 in /home/ec2-user/anaconda3/envs/pytorch_p36/lib/python3.6/site-packages (from importlib-metadata>=1.4.0->sagemaker==1.72.0) (3.7.4.3)\n",
            "Requirement already satisfied: pyparsing>=2.0.2 in /home/ec2-user/anaconda3/envs/pytorch_p36/lib/python3.6/site-packages (from packaging>=20.0->sagemaker==1.72.0) (2.4.6)\n",
            "Requirement already satisfied: six in /home/ec2-user/anaconda3/envs/pytorch_p36/lib/python3.6/site-packages (from packaging>=20.0->sagemaker==1.72.0) (1.14.0)\n",
            "Requirement already satisfied: setuptools in /home/ec2-user/anaconda3/envs/pytorch_p36/lib/python3.6/site-packages (from protobuf>=3.1->sagemaker==1.72.0) (45.2.0.post20200210)\n",
            "Building wheels for collected packages: sagemaker\n",
            "  Building wheel for sagemaker (setup.py) ... \u001b[?25ldone\n",
            "\u001b[?25h  Created wheel for sagemaker: filename=sagemaker-1.72.0-py2.py3-none-any.whl size=386358 sha256=5c7e2acfe04b5296e1d1c75fac83d092aacf36e4fb0c7e7ca96564a455a0deeb\n",
            "  Stored in directory: /home/ec2-user/.cache/pip/wheels/c3/58/70/85faf4437568bfaa4c419937569ba1fe54d44c5db42406bbd7\n",
            "Successfully built sagemaker\n",
            "Installing collected packages: smdebug-rulesconfig, sagemaker\n",
            "  Attempting uninstall: smdebug-rulesconfig\n",
            "    Found existing installation: smdebug-rulesconfig 1.0.1\n",
            "    Uninstalling smdebug-rulesconfig-1.0.1:\n",
            "      Successfully uninstalled smdebug-rulesconfig-1.0.1\n",
            "  Attempting uninstall: sagemaker\n",
            "    Found existing installation: sagemaker 2.25.2\n",
            "    Uninstalling sagemaker-2.25.2:\n",
            "      Successfully uninstalled sagemaker-2.25.2\n",
            "Successfully installed sagemaker-1.72.0 smdebug-rulesconfig-0.1.4\n"
          ],
          "name": "stdout"
        }
      ]
    },
    {
      "cell_type": "code",
      "metadata": {
        "id": "HlpkBSgj0A-x",
        "outputId": "aac5224a-1a6c-4393-cab9-93f7fd0585c8"
      },
      "source": [
        "pip install pandas tensorflow-gpu --upgrade"
      ],
      "execution_count": null,
      "outputs": [
        {
          "output_type": "stream",
          "text": [
            "Requirement already satisfied: pandas in /home/ec2-user/anaconda3/envs/pytorch_p36/lib/python3.6/site-packages (1.0.1)\n",
            "Collecting pandas\n",
            "  Downloading pandas-1.1.5-cp36-cp36m-manylinux1_x86_64.whl (9.5 MB)\n",
            "\u001b[K     |████████████████████████████████| 9.5 MB 15.8 MB/s eta 0:00:01\n",
            "\u001b[?25hCollecting tensorflow-gpu\n",
            "  Downloading tensorflow_gpu-2.4.1-cp36-cp36m-manylinux2010_x86_64.whl (394.3 MB)\n",
            "\u001b[K     |████████████████████████████████| 394.3 MB 7.0 kB/s  eta 0:00:01     |███████████████████████████▌    | 339.2 MB 516 kB/s eta 0:01:47\n",
            "\u001b[?25hRequirement already satisfied: pytz>=2017.2 in /home/ec2-user/anaconda3/envs/pytorch_p36/lib/python3.6/site-packages (from pandas) (2019.3)\n",
            "Requirement already satisfied: python-dateutil>=2.7.3 in /home/ec2-user/anaconda3/envs/pytorch_p36/lib/python3.6/site-packages (from pandas) (2.8.1)\n",
            "Requirement already satisfied: numpy>=1.15.4 in /home/ec2-user/anaconda3/envs/pytorch_p36/lib/python3.6/site-packages (from pandas) (1.18.1)\n",
            "Requirement already satisfied: six>=1.5 in /home/ec2-user/anaconda3/envs/pytorch_p36/lib/python3.6/site-packages (from python-dateutil>=2.7.3->pandas) (1.14.0)\n",
            "Collecting tensorflow-estimator<2.5.0,>=2.4.0\n",
            "  Downloading tensorflow_estimator-2.4.0-py2.py3-none-any.whl (462 kB)\n",
            "\u001b[K     |████████████████████████████████| 462 kB 33.1 MB/s eta 0:00:01\n",
            "\u001b[?25hCollecting grpcio~=1.32.0\n",
            "  Downloading grpcio-1.32.0-cp36-cp36m-manylinux2014_x86_64.whl (3.8 MB)\n",
            "\u001b[K     |████████████████████████████████| 3.8 MB 38.0 MB/s eta 0:00:01     |██████▉                         | 808 kB 38.0 MB/s eta 0:00:01\n",
            "\u001b[?25hCollecting absl-py~=0.10\n",
            "  Downloading absl_py-0.11.0-py3-none-any.whl (127 kB)\n",
            "\u001b[K     |████████████████████████████████| 127 kB 71.9 MB/s eta 0:00:01\n",
            "\u001b[?25hCollecting gast==0.3.3\n",
            "  Downloading gast-0.3.3-py2.py3-none-any.whl (9.7 kB)\n",
            "Collecting tensorboard~=2.4\n",
            "  Downloading tensorboard-2.4.1-py3-none-any.whl (10.6 MB)\n",
            "\u001b[K     |████████████████████████████████| 10.6 MB 40.6 MB/s eta 0:00:01\n",
            "\u001b[?25hRequirement already satisfied: typing-extensions~=3.7.4 in /home/ec2-user/anaconda3/envs/pytorch_p36/lib/python3.6/site-packages (from tensorflow-gpu) (3.7.4.3)\n",
            "Collecting termcolor~=1.1.0\n",
            "  Downloading termcolor-1.1.0.tar.gz (3.9 kB)\n",
            "Collecting wrapt~=1.12.1\n",
            "  Downloading wrapt-1.12.1.tar.gz (27 kB)\n",
            "Collecting wheel~=0.35\n",
            "  Downloading wheel-0.36.2-py2.py3-none-any.whl (35 kB)\n",
            "Collecting numpy>=1.15.4\n",
            "  Downloading numpy-1.19.5-cp36-cp36m-manylinux2010_x86_64.whl (14.8 MB)\n",
            "\u001b[K     |████████████████████████████████| 14.8 MB 46.7 MB/s eta 0:00:01    |██▌                             | 1.2 MB 46.7 MB/s eta 0:00:01\n",
            "\u001b[?25hCollecting astunparse~=1.6.3\n",
            "  Downloading astunparse-1.6.3-py2.py3-none-any.whl (12 kB)\n",
            "Requirement already satisfied: google-pasta~=0.2 in /home/ec2-user/anaconda3/envs/pytorch_p36/lib/python3.6/site-packages (from tensorflow-gpu) (0.2.0)\n",
            "Collecting flatbuffers~=1.12.0\n",
            "  Downloading flatbuffers-1.12-py2.py3-none-any.whl (15 kB)\n",
            "Requirement already satisfied: h5py~=2.10.0 in /home/ec2-user/anaconda3/envs/pytorch_p36/lib/python3.6/site-packages (from tensorflow-gpu) (2.10.0)\n",
            "Collecting opt-einsum~=3.3.0\n",
            "  Downloading opt_einsum-3.3.0-py3-none-any.whl (65 kB)\n",
            "\u001b[K     |████████████████████████████████| 65 kB 6.8 MB/s  eta 0:00:01\n",
            "\u001b[?25hRequirement already satisfied: protobuf>=3.9.2 in /home/ec2-user/anaconda3/envs/pytorch_p36/lib/python3.6/site-packages (from tensorflow-gpu) (3.11.4)\n",
            "Collecting six>=1.5\n",
            "  Downloading six-1.15.0-py2.py3-none-any.whl (10 kB)\n",
            "Collecting keras-preprocessing~=1.1.2\n",
            "  Downloading Keras_Preprocessing-1.1.2-py2.py3-none-any.whl (42 kB)\n",
            "\u001b[K     |████████████████████████████████| 42 kB 2.1 MB/s  eta 0:00:01\n",
            "\u001b[?25hRequirement already satisfied: setuptools in /home/ec2-user/anaconda3/envs/pytorch_p36/lib/python3.6/site-packages (from protobuf>=3.9.2->tensorflow-gpu) (45.2.0.post20200210)\n",
            "Collecting google-auth-oauthlib<0.5,>=0.4.1\n",
            "  Downloading google_auth_oauthlib-0.4.3-py2.py3-none-any.whl (18 kB)\n",
            "Collecting tensorboard-plugin-wit>=1.6.0\n",
            "  Downloading tensorboard_plugin_wit-1.8.0-py3-none-any.whl (781 kB)\n",
            "\u001b[K     |████████████████████████████████| 781 kB 40.9 MB/s eta 0:00:01\n",
            "\u001b[?25hCollecting markdown>=2.6.8\n",
            "  Downloading Markdown-3.3.4-py3-none-any.whl (97 kB)\n",
            "\u001b[K     |████████████████████████████████| 97 kB 883 kB/s  eta 0:00:01\n",
            "\u001b[?25hCollecting google-auth<2,>=1.6.3\n",
            "  Downloading google_auth-1.27.1-py2.py3-none-any.whl (136 kB)\n",
            "\u001b[K     |████████████████████████████████| 136 kB 74.6 MB/s eta 0:00:01\n",
            "\u001b[?25hRequirement already satisfied: requests<3,>=2.21.0 in /home/ec2-user/anaconda3/envs/pytorch_p36/lib/python3.6/site-packages (from tensorboard~=2.4->tensorflow-gpu) (2.22.0)\n",
            "Requirement already satisfied: werkzeug>=0.11.15 in /home/ec2-user/anaconda3/envs/pytorch_p36/lib/python3.6/site-packages (from tensorboard~=2.4->tensorflow-gpu) (1.0.0)\n",
            "Collecting pyasn1-modules>=0.2.1\n",
            "  Downloading pyasn1_modules-0.2.8-py2.py3-none-any.whl (155 kB)\n",
            "\u001b[K     |████████████████████████████████| 155 kB 73.1 MB/s eta 0:00:01\n",
            "\u001b[?25hCollecting cachetools<5.0,>=2.0.0\n",
            "  Downloading cachetools-4.2.1-py3-none-any.whl (12 kB)\n",
            "Requirement already satisfied: rsa<5,>=3.1.4 in /home/ec2-user/anaconda3/envs/pytorch_p36/lib/python3.6/site-packages (from google-auth<2,>=1.6.3->tensorboard~=2.4->tensorflow-gpu) (4.7.2)\n",
            "Collecting requests-oauthlib>=0.7.0\n",
            "  Downloading requests_oauthlib-1.3.0-py2.py3-none-any.whl (23 kB)\n",
            "Requirement already satisfied: importlib-metadata in /home/ec2-user/anaconda3/envs/pytorch_p36/lib/python3.6/site-packages (from markdown>=2.6.8->tensorboard~=2.4->tensorflow-gpu) (3.4.0)\n",
            "Requirement already satisfied: pyasn1<0.5.0,>=0.4.6 in /home/ec2-user/anaconda3/envs/pytorch_p36/lib/python3.6/site-packages (from pyasn1-modules>=0.2.1->google-auth<2,>=1.6.3->tensorboard~=2.4->tensorflow-gpu) (0.4.8)\n",
            "Requirement already satisfied: chardet<3.1.0,>=3.0.2 in /home/ec2-user/anaconda3/envs/pytorch_p36/lib/python3.6/site-packages (from requests<3,>=2.21.0->tensorboard~=2.4->tensorflow-gpu) (3.0.4)\n",
            "Requirement already satisfied: certifi>=2017.4.17 in /home/ec2-user/anaconda3/envs/pytorch_p36/lib/python3.6/site-packages (from requests<3,>=2.21.0->tensorboard~=2.4->tensorflow-gpu) (2020.12.5)\n",
            "Requirement already satisfied: urllib3!=1.25.0,!=1.25.1,<1.26,>=1.21.1 in /home/ec2-user/anaconda3/envs/pytorch_p36/lib/python3.6/site-packages (from requests<3,>=2.21.0->tensorboard~=2.4->tensorflow-gpu) (1.25.10)\n",
            "Requirement already satisfied: idna<2.9,>=2.5 in /home/ec2-user/anaconda3/envs/pytorch_p36/lib/python3.6/site-packages (from requests<3,>=2.21.0->tensorboard~=2.4->tensorflow-gpu) (2.8)\n",
            "Collecting oauthlib>=3.0.0\n",
            "  Downloading oauthlib-3.1.0-py2.py3-none-any.whl (147 kB)\n",
            "\u001b[K     |████████████████████████████████| 147 kB 62.6 MB/s eta 0:00:01\n",
            "\u001b[?25hRequirement already satisfied: zipp>=0.5 in /home/ec2-user/anaconda3/envs/pytorch_p36/lib/python3.6/site-packages (from importlib-metadata->markdown>=2.6.8->tensorboard~=2.4->tensorflow-gpu) (2.2.0)\n",
            "Building wheels for collected packages: termcolor, wrapt\n",
            "  Building wheel for termcolor (setup.py) ... \u001b[?25ldone\n",
            "\u001b[?25h  Created wheel for termcolor: filename=termcolor-1.1.0-py3-none-any.whl size=4830 sha256=5de429ff7feb08865e692eaaf0704a9ca504b42ce9dbb6bdbc43261b323159af\n",
            "  Stored in directory: /home/ec2-user/.cache/pip/wheels/93/2a/eb/e58dbcbc963549ee4f065ff80a59f274cc7210b6eab962acdc\n",
            "  Building wheel for wrapt (setup.py) ... \u001b[?25ldone\n",
            "\u001b[?25h  Created wheel for wrapt: filename=wrapt-1.12.1-cp36-cp36m-linux_x86_64.whl size=35936 sha256=8cfd9b545579910093448f0c155f05eaff9d3f6d5013458031bfd72683fdfe18\n",
            "  Stored in directory: /home/ec2-user/.cache/pip/wheels/32/42/7f/23cae9ff6ef66798d00dc5d659088e57dbba01566f6c60db63\n",
            "Successfully built termcolor wrapt\n",
            "Installing collected packages: six, pyasn1-modules, oauthlib, cachetools, requests-oauthlib, google-auth, wheel, tensorboard-plugin-wit, numpy, markdown, grpcio, google-auth-oauthlib, absl-py, wrapt, termcolor, tensorflow-estimator, tensorboard, opt-einsum, keras-preprocessing, gast, flatbuffers, astunparse, tensorflow-gpu, pandas\n",
            "  Attempting uninstall: six\n",
            "    Found existing installation: six 1.14.0\n",
            "    Uninstalling six-1.14.0:\n",
            "      Successfully uninstalled six-1.14.0\n",
            "  Attempting uninstall: wheel\n",
            "    Found existing installation: wheel 0.34.2\n",
            "    Uninstalling wheel-0.34.2:\n",
            "      Successfully uninstalled wheel-0.34.2\n",
            "  Attempting uninstall: numpy\n",
            "    Found existing installation: numpy 1.18.1\n",
            "    Uninstalling numpy-1.18.1:\n",
            "      Successfully uninstalled numpy-1.18.1\n",
            "  Attempting uninstall: wrapt\n",
            "    Found existing installation: wrapt 1.11.2\n",
            "    Uninstalling wrapt-1.11.2:\n",
            "      Successfully uninstalled wrapt-1.11.2\n",
            "  Attempting uninstall: pandas\n",
            "    Found existing installation: pandas 1.0.1\n",
            "    Uninstalling pandas-1.0.1:\n",
            "      Successfully uninstalled pandas-1.0.1\n",
            "\u001b[31mERROR: pip's dependency resolver does not currently take into account all the packages that are installed. This behaviour is the source of the following dependency conflicts.\n",
            "pytest-astropy 0.8.0 requires pytest-cov>=2.0, which is not installed.\n",
            "pytest-astropy 0.8.0 requires pytest-filter-subpackage>=0.1, which is not installed.\n",
            "fastai 1.0.61 requires dataclasses, which is not installed.\n",
            "fastai 1.0.61 requires nvidia-ml-py3, which is not installed.\u001b[0m\n",
            "Successfully installed absl-py-0.11.0 astunparse-1.6.3 cachetools-4.2.1 flatbuffers-1.12 gast-0.3.3 google-auth-1.27.1 google-auth-oauthlib-0.4.3 grpcio-1.32.0 keras-preprocessing-1.1.2 markdown-3.3.4 numpy-1.19.5 oauthlib-3.1.0 opt-einsum-3.3.0 pandas-1.1.5 pyasn1-modules-0.2.8 requests-oauthlib-1.3.0 six-1.15.0 tensorboard-2.4.1 tensorboard-plugin-wit-1.8.0 tensorflow-estimator-2.4.0 tensorflow-gpu-2.4.1 termcolor-1.1.0 wheel-0.36.2 wrapt-1.12.1\n",
            "Note: you may need to restart the kernel to use updated packages.\n"
          ],
          "name": "stdout"
        }
      ]
    },
    {
      "cell_type": "code",
      "metadata": {
        "id": "6o31tKC90A-x",
        "outputId": "a87c2392-1ac5-462a-d0b6-76007b11c699"
      },
      "source": [
        "pip install --upgrade sagemaker"
      ],
      "execution_count": null,
      "outputs": [
        {
          "output_type": "stream",
          "text": [
            "Requirement already satisfied: sagemaker in /home/ec2-user/anaconda3/envs/pytorch_p36/lib/python3.6/site-packages (1.72.0)\n",
            "Collecting sagemaker\n",
            "  Downloading sagemaker-2.29.0.tar.gz (398 kB)\n",
            "\u001b[K     |████████████████████████████████| 398 kB 18.2 MB/s eta 0:00:01\n",
            "\u001b[?25hRequirement already satisfied: attrs in /home/ec2-user/anaconda3/envs/pytorch_p36/lib/python3.6/site-packages (from sagemaker) (19.3.0)\n",
            "Requirement already satisfied: boto3>=1.16.32 in /home/ec2-user/anaconda3/envs/pytorch_p36/lib/python3.6/site-packages (from sagemaker) (1.17.16)\n",
            "Requirement already satisfied: google-pasta in /home/ec2-user/anaconda3/envs/pytorch_p36/lib/python3.6/site-packages (from sagemaker) (0.2.0)\n",
            "Requirement already satisfied: numpy>=1.9.0 in /home/ec2-user/anaconda3/envs/pytorch_p36/lib/python3.6/site-packages (from sagemaker) (1.19.5)\n",
            "Requirement already satisfied: protobuf>=3.1 in /home/ec2-user/anaconda3/envs/pytorch_p36/lib/python3.6/site-packages (from sagemaker) (3.11.4)\n",
            "Requirement already satisfied: protobuf3-to-dict>=0.1.5 in /home/ec2-user/anaconda3/envs/pytorch_p36/lib/python3.6/site-packages (from sagemaker) (0.1.5)\n",
            "Collecting smdebug_rulesconfig==1.0.1\n",
            "  Using cached smdebug_rulesconfig-1.0.1-py2.py3-none-any.whl (20 kB)\n",
            "Requirement already satisfied: importlib-metadata>=1.4.0 in /home/ec2-user/anaconda3/envs/pytorch_p36/lib/python3.6/site-packages (from sagemaker) (3.4.0)\n",
            "Requirement already satisfied: packaging>=20.0 in /home/ec2-user/anaconda3/envs/pytorch_p36/lib/python3.6/site-packages (from sagemaker) (20.1)\n",
            "Requirement already satisfied: jmespath<1.0.0,>=0.7.1 in /home/ec2-user/anaconda3/envs/pytorch_p36/lib/python3.6/site-packages (from boto3>=1.16.32->sagemaker) (0.10.0)\n",
            "Requirement already satisfied: s3transfer<0.4.0,>=0.3.0 in /home/ec2-user/anaconda3/envs/pytorch_p36/lib/python3.6/site-packages (from boto3>=1.16.32->sagemaker) (0.3.4)\n",
            "Requirement already satisfied: botocore<1.21.0,>=1.20.16 in /home/ec2-user/anaconda3/envs/pytorch_p36/lib/python3.6/site-packages (from boto3>=1.16.32->sagemaker) (1.20.16)\n",
            "Requirement already satisfied: python-dateutil<3.0.0,>=2.1 in /home/ec2-user/anaconda3/envs/pytorch_p36/lib/python3.6/site-packages (from botocore<1.21.0,>=1.20.16->boto3>=1.16.32->sagemaker) (2.8.1)\n",
            "Requirement already satisfied: urllib3<1.27,>=1.25.4 in /home/ec2-user/anaconda3/envs/pytorch_p36/lib/python3.6/site-packages (from botocore<1.21.0,>=1.20.16->boto3>=1.16.32->sagemaker) (1.25.10)\n",
            "Requirement already satisfied: zipp>=0.5 in /home/ec2-user/anaconda3/envs/pytorch_p36/lib/python3.6/site-packages (from importlib-metadata>=1.4.0->sagemaker) (2.2.0)\n",
            "Requirement already satisfied: typing-extensions>=3.6.4 in /home/ec2-user/anaconda3/envs/pytorch_p36/lib/python3.6/site-packages (from importlib-metadata>=1.4.0->sagemaker) (3.7.4.3)\n",
            "Requirement already satisfied: six in /home/ec2-user/anaconda3/envs/pytorch_p36/lib/python3.6/site-packages (from packaging>=20.0->sagemaker) (1.15.0)\n",
            "Requirement already satisfied: pyparsing>=2.0.2 in /home/ec2-user/anaconda3/envs/pytorch_p36/lib/python3.6/site-packages (from packaging>=20.0->sagemaker) (2.4.6)\n",
            "Requirement already satisfied: setuptools in /home/ec2-user/anaconda3/envs/pytorch_p36/lib/python3.6/site-packages (from protobuf>=3.1->sagemaker) (45.2.0.post20200210)\n",
            "Building wheels for collected packages: sagemaker\n",
            "  Building wheel for sagemaker (setup.py) ... \u001b[?25ldone\n",
            "\u001b[?25h  Created wheel for sagemaker: filename=sagemaker-2.29.0-py2.py3-none-any.whl size=563149 sha256=c7bfb1b79aeb82350cc67a6220a16887dad64d5215590c7620892776678b1d1b\n",
            "  Stored in directory: /home/ec2-user/.cache/pip/wheels/89/ce/de/f1ba648cb7f9980ddac1ceaab9f67a22c5686cad28dabda218\n",
            "Successfully built sagemaker\n",
            "Installing collected packages: smdebug-rulesconfig, sagemaker\n",
            "  Attempting uninstall: smdebug-rulesconfig\n",
            "    Found existing installation: smdebug-rulesconfig 0.1.4\n",
            "    Uninstalling smdebug-rulesconfig-0.1.4:\n",
            "      Successfully uninstalled smdebug-rulesconfig-0.1.4\n",
            "  Attempting uninstall: sagemaker\n",
            "    Found existing installation: sagemaker 1.72.0\n",
            "    Uninstalling sagemaker-1.72.0:\n",
            "      Successfully uninstalled sagemaker-1.72.0\n",
            "Successfully installed sagemaker-2.29.0 smdebug-rulesconfig-1.0.1\n",
            "Note: you may need to restart the kernel to use updated packages.\n"
          ],
          "name": "stdout"
        }
      ]
    },
    {
      "cell_type": "code",
      "metadata": {
        "id": "xXZDvCbJ0A-y",
        "outputId": "85ec41cd-5fbc-4236-a43c-cbe32bb89058"
      },
      "source": [
        "pip install --upgrade sagemaker"
      ],
      "execution_count": null,
      "outputs": [
        {
          "output_type": "stream",
          "text": [
            "Requirement already satisfied: sagemaker in /home/ec2-user/anaconda3/envs/pytorch_p36/lib/python3.6/site-packages (2.29.0)\n",
            "Requirement already satisfied: packaging>=20.0 in /home/ec2-user/anaconda3/envs/pytorch_p36/lib/python3.6/site-packages (from sagemaker) (20.1)\n",
            "Requirement already satisfied: attrs in /home/ec2-user/anaconda3/envs/pytorch_p36/lib/python3.6/site-packages (from sagemaker) (19.3.0)\n",
            "Requirement already satisfied: protobuf>=3.1 in /home/ec2-user/anaconda3/envs/pytorch_p36/lib/python3.6/site-packages (from sagemaker) (3.11.4)\n",
            "Requirement already satisfied: protobuf3-to-dict>=0.1.5 in /home/ec2-user/anaconda3/envs/pytorch_p36/lib/python3.6/site-packages (from sagemaker) (0.1.5)\n",
            "Requirement already satisfied: boto3>=1.16.32 in /home/ec2-user/anaconda3/envs/pytorch_p36/lib/python3.6/site-packages (from sagemaker) (1.17.16)\n",
            "Requirement already satisfied: importlib-metadata>=1.4.0 in /home/ec2-user/anaconda3/envs/pytorch_p36/lib/python3.6/site-packages (from sagemaker) (3.4.0)\n",
            "Requirement already satisfied: smdebug-rulesconfig==1.0.1 in /home/ec2-user/anaconda3/envs/pytorch_p36/lib/python3.6/site-packages (from sagemaker) (1.0.1)\n",
            "Requirement already satisfied: google-pasta in /home/ec2-user/anaconda3/envs/pytorch_p36/lib/python3.6/site-packages (from sagemaker) (0.2.0)\n",
            "Requirement already satisfied: numpy>=1.9.0 in /home/ec2-user/anaconda3/envs/pytorch_p36/lib/python3.6/site-packages (from sagemaker) (1.19.5)\n",
            "Requirement already satisfied: botocore<1.21.0,>=1.20.16 in /home/ec2-user/anaconda3/envs/pytorch_p36/lib/python3.6/site-packages (from boto3>=1.16.32->sagemaker) (1.20.16)\n",
            "Requirement already satisfied: jmespath<1.0.0,>=0.7.1 in /home/ec2-user/anaconda3/envs/pytorch_p36/lib/python3.6/site-packages (from boto3>=1.16.32->sagemaker) (0.10.0)\n",
            "Requirement already satisfied: s3transfer<0.4.0,>=0.3.0 in /home/ec2-user/anaconda3/envs/pytorch_p36/lib/python3.6/site-packages (from boto3>=1.16.32->sagemaker) (0.3.4)\n",
            "Requirement already satisfied: python-dateutil<3.0.0,>=2.1 in /home/ec2-user/anaconda3/envs/pytorch_p36/lib/python3.6/site-packages (from botocore<1.21.0,>=1.20.16->boto3>=1.16.32->sagemaker) (2.8.1)\n",
            "Requirement already satisfied: urllib3<1.27,>=1.25.4 in /home/ec2-user/anaconda3/envs/pytorch_p36/lib/python3.6/site-packages (from botocore<1.21.0,>=1.20.16->boto3>=1.16.32->sagemaker) (1.25.10)\n",
            "Requirement already satisfied: zipp>=0.5 in /home/ec2-user/anaconda3/envs/pytorch_p36/lib/python3.6/site-packages (from importlib-metadata>=1.4.0->sagemaker) (2.2.0)\n",
            "Requirement already satisfied: typing-extensions>=3.6.4 in /home/ec2-user/anaconda3/envs/pytorch_p36/lib/python3.6/site-packages (from importlib-metadata>=1.4.0->sagemaker) (3.7.4.3)\n",
            "Requirement already satisfied: pyparsing>=2.0.2 in /home/ec2-user/anaconda3/envs/pytorch_p36/lib/python3.6/site-packages (from packaging>=20.0->sagemaker) (2.4.6)\n",
            "Requirement already satisfied: six in /home/ec2-user/anaconda3/envs/pytorch_p36/lib/python3.6/site-packages (from packaging>=20.0->sagemaker) (1.15.0)\n",
            "Requirement already satisfied: setuptools in /home/ec2-user/anaconda3/envs/pytorch_p36/lib/python3.6/site-packages (from protobuf>=3.1->sagemaker) (45.2.0.post20200210)\n",
            "Note: you may need to restart the kernel to use updated packages.\n"
          ],
          "name": "stdout"
        }
      ]
    },
    {
      "cell_type": "code",
      "metadata": {
        "id": "v4p9xpw30A-y",
        "outputId": "dd057f2d-4c36-43ef-965f-da3430804cdf"
      },
      "source": [
        "\n",
        "# your import and estimator code, here\n",
        "from sagemaker.sklearn.estimator import SKLearn\n",
        "\n",
        "model_artifacts_location = 's3://sagemaker-ap-south-1-196970442477/plagiarism_detection'\n",
        "estimator = SKLearn(\n",
        "    entry_point='train.py',\n",
        "    source_dir='source_sklearn',\n",
        "    role=role,\n",
        "    train_instance_count=1,\n",
        "    train_instance_type='ml.c4.xlarge',\n",
        "    sagemaker_session=sagemaker_session,\n",
        "    framework_version='0.20.0',\n",
        "    output_path=model_artifacts_location,\n",
        "    py_version='py3'\n",
        "    \n",
        ")"
      ],
      "execution_count": null,
      "outputs": [
        {
          "output_type": "stream",
          "text": [
            "train_instance_type has been renamed in sagemaker>=2.\n",
            "See: https://sagemaker.readthedocs.io/en/stable/v2.html for details.\n",
            "train_instance_count has been renamed in sagemaker>=2.\n",
            "See: https://sagemaker.readthedocs.io/en/stable/v2.html for details.\n",
            "train_instance_count has been renamed in sagemaker>=2.\n",
            "See: https://sagemaker.readthedocs.io/en/stable/v2.html for details.\n",
            "train_instance_type has been renamed in sagemaker>=2.\n",
            "See: https://sagemaker.readthedocs.io/en/stable/v2.html for details.\n"
          ],
          "name": "stderr"
        }
      ]
    },
    {
      "cell_type": "markdown",
      "metadata": {
        "id": "FhLKxsBr0A-y"
      },
      "source": [
        "## EXERCISE: Train the estimator\n",
        "\n",
        "Train your estimator on the training data stored in S3. This should create a training job that you can monitor in your SageMaker console."
      ]
    },
    {
      "cell_type": "code",
      "metadata": {
        "id": "NKU-lJu40A-y",
        "outputId": "241c04d3-0e9d-4bf7-edba-3f1cdeb05a2f"
      },
      "source": [
        "%%time\n",
        "\n",
        "# Train your estimator on S3 training data\n",
        "\n",
        "estimator.fit({'train': input_data})"
      ],
      "execution_count": null,
      "outputs": [
        {
          "output_type": "stream",
          "text": [
            "2021-03-06 12:15:13 Starting - Starting the training job...\n",
            "2021-03-06 12:15:15 Starting - Launching requested ML instancesProfilerReport-1615032912: InProgress\n",
            "......\n",
            "2021-03-06 12:16:23 Starting - Preparing the instances for training......\n",
            "2021-03-06 12:17:38 Downloading - Downloading input data\n",
            "2021-03-06 12:17:38 Training - Downloading the training image..\u001b[34m2021-03-06 12:17:48,000 sagemaker-training-toolkit INFO     Imported framework sagemaker_sklearn_container.training\u001b[0m\n",
            "\u001b[34m2021-03-06 12:17:48,002 sagemaker-training-toolkit INFO     No GPUs detected (normal if no gpus installed)\u001b[0m\n",
            "\u001b[34m2021-03-06 12:17:48,012 sagemaker_sklearn_container.training INFO     Invoking user training script.\u001b[0m\n",
            "\u001b[34m2021-03-06 12:17:48,220 botocore.utils INFO     IMDS ENDPOINT: http://169.254.169.254/\u001b[0m\n",
            "\u001b[34m2021-03-06 12:17:48,411 sagemaker-training-toolkit INFO     No GPUs detected (normal if no gpus installed)\u001b[0m\n",
            "\u001b[34m2021-03-06 12:17:48,425 sagemaker-training-toolkit INFO     No GPUs detected (normal if no gpus installed)\u001b[0m\n",
            "\u001b[34m2021-03-06 12:17:48,436 sagemaker-training-toolkit INFO     No GPUs detected (normal if no gpus installed)\u001b[0m\n",
            "\u001b[34m2021-03-06 12:17:48,446 sagemaker-training-toolkit INFO     Invoking user script\n",
            "\u001b[0m\n",
            "\u001b[34mTraining Env:\n",
            "\u001b[0m\n",
            "\u001b[34m{\n",
            "    \"additional_framework_parameters\": {},\n",
            "    \"channel_input_dirs\": {\n",
            "        \"train\": \"/opt/ml/input/data/train\"\n",
            "    },\n",
            "    \"current_host\": \"algo-1\",\n",
            "    \"framework_module\": \"sagemaker_sklearn_container.training:main\",\n",
            "    \"hosts\": [\n",
            "        \"algo-1\"\n",
            "    ],\n",
            "    \"hyperparameters\": {},\n",
            "    \"input_config_dir\": \"/opt/ml/input/config\",\n",
            "    \"input_data_config\": {\n",
            "        \"train\": {\n",
            "            \"TrainingInputMode\": \"File\",\n",
            "            \"S3DistributionType\": \"FullyReplicated\",\n",
            "            \"RecordWrapperType\": \"None\"\n",
            "        }\n",
            "    },\n",
            "    \"input_dir\": \"/opt/ml/input\",\n",
            "    \"is_master\": true,\n",
            "    \"job_name\": \"sagemaker-scikit-learn-2021-03-06-12-15-12-880\",\n",
            "    \"log_level\": 20,\n",
            "    \"master_hostname\": \"algo-1\",\n",
            "    \"model_dir\": \"/opt/ml/model\",\n",
            "    \"module_dir\": \"s3://sagemaker-ap-south-1-196970442477/sagemaker-scikit-learn-2021-03-06-12-15-12-880/source/sourcedir.tar.gz\",\n",
            "    \"module_name\": \"train\",\n",
            "    \"network_interface_name\": \"eth0\",\n",
            "    \"num_cpus\": 4,\n",
            "    \"num_gpus\": 0,\n",
            "    \"output_data_dir\": \"/opt/ml/output/data\",\n",
            "    \"output_dir\": \"/opt/ml/output\",\n",
            "    \"output_intermediate_dir\": \"/opt/ml/output/intermediate\",\n",
            "    \"resource_config\": {\n",
            "        \"current_host\": \"algo-1\",\n",
            "        \"hosts\": [\n",
            "            \"algo-1\"\n",
            "        ],\n",
            "        \"network_interface_name\": \"eth0\"\n",
            "    },\n",
            "    \"user_entry_point\": \"train.py\"\u001b[0m\n",
            "\u001b[34m}\n",
            "\u001b[0m\n",
            "\u001b[34mEnvironment variables:\n",
            "\u001b[0m\n",
            "\u001b[34mSM_HOSTS=[\"algo-1\"]\u001b[0m\n",
            "\u001b[34mSM_NETWORK_INTERFACE_NAME=eth0\u001b[0m\n",
            "\u001b[34mSM_HPS={}\u001b[0m\n",
            "\u001b[34mSM_USER_ENTRY_POINT=train.py\u001b[0m\n",
            "\u001b[34mSM_FRAMEWORK_PARAMS={}\u001b[0m\n",
            "\u001b[34mSM_RESOURCE_CONFIG={\"current_host\":\"algo-1\",\"hosts\":[\"algo-1\"],\"network_interface_name\":\"eth0\"}\u001b[0m\n",
            "\u001b[34mSM_INPUT_DATA_CONFIG={\"train\":{\"RecordWrapperType\":\"None\",\"S3DistributionType\":\"FullyReplicated\",\"TrainingInputMode\":\"File\"}}\u001b[0m\n",
            "\u001b[34mSM_OUTPUT_DATA_DIR=/opt/ml/output/data\u001b[0m\n",
            "\u001b[34mSM_CHANNELS=[\"train\"]\u001b[0m\n",
            "\u001b[34mSM_CURRENT_HOST=algo-1\u001b[0m\n",
            "\u001b[34mSM_MODULE_NAME=train\u001b[0m\n",
            "\u001b[34mSM_LOG_LEVEL=20\u001b[0m\n",
            "\u001b[34mSM_FRAMEWORK_MODULE=sagemaker_sklearn_container.training:main\u001b[0m\n",
            "\u001b[34mSM_INPUT_DIR=/opt/ml/input\u001b[0m\n",
            "\u001b[34mSM_INPUT_CONFIG_DIR=/opt/ml/input/config\u001b[0m\n",
            "\u001b[34mSM_OUTPUT_DIR=/opt/ml/output\u001b[0m\n",
            "\u001b[34mSM_NUM_CPUS=4\u001b[0m\n",
            "\u001b[34mSM_NUM_GPUS=0\u001b[0m\n",
            "\u001b[34mSM_MODEL_DIR=/opt/ml/model\u001b[0m\n",
            "\u001b[34mSM_MODULE_DIR=s3://sagemaker-ap-south-1-196970442477/sagemaker-scikit-learn-2021-03-06-12-15-12-880/source/sourcedir.tar.gz\u001b[0m\n",
            "\u001b[34mSM_TRAINING_ENV={\"additional_framework_parameters\":{},\"channel_input_dirs\":{\"train\":\"/opt/ml/input/data/train\"},\"current_host\":\"algo-1\",\"framework_module\":\"sagemaker_sklearn_container.training:main\",\"hosts\":[\"algo-1\"],\"hyperparameters\":{},\"input_config_dir\":\"/opt/ml/input/config\",\"input_data_config\":{\"train\":{\"RecordWrapperType\":\"None\",\"S3DistributionType\":\"FullyReplicated\",\"TrainingInputMode\":\"File\"}},\"input_dir\":\"/opt/ml/input\",\"is_master\":true,\"job_name\":\"sagemaker-scikit-learn-2021-03-06-12-15-12-880\",\"log_level\":20,\"master_hostname\":\"algo-1\",\"model_dir\":\"/opt/ml/model\",\"module_dir\":\"s3://sagemaker-ap-south-1-196970442477/sagemaker-scikit-learn-2021-03-06-12-15-12-880/source/sourcedir.tar.gz\",\"module_name\":\"train\",\"network_interface_name\":\"eth0\",\"num_cpus\":4,\"num_gpus\":0,\"output_data_dir\":\"/opt/ml/output/data\",\"output_dir\":\"/opt/ml/output\",\"output_intermediate_dir\":\"/opt/ml/output/intermediate\",\"resource_config\":{\"current_host\":\"algo-1\",\"hosts\":[\"algo-1\"],\"network_interface_name\":\"eth0\"},\"user_entry_point\":\"train.py\"}\u001b[0m\n",
            "\u001b[34mSM_USER_ARGS=[]\u001b[0m\n",
            "\u001b[34mSM_OUTPUT_INTERMEDIATE_DIR=/opt/ml/output/intermediate\u001b[0m\n",
            "\u001b[34mSM_CHANNEL_TRAIN=/opt/ml/input/data/train\u001b[0m\n",
            "\u001b[34mPYTHONPATH=/opt/ml/code:/miniconda3/bin:/miniconda3/lib/python37.zip:/miniconda3/lib/python3.7:/miniconda3/lib/python3.7/lib-dynload:/miniconda3/lib/python3.7/site-packages\n",
            "\u001b[0m\n",
            "\u001b[34mInvoking script with the following command:\n",
            "\u001b[0m\n",
            "\u001b[34m/miniconda3/bin/python train.py\n",
            "\n",
            "\u001b[0m\n",
            "\u001b[34m/miniconda3/lib/python3.7/site-packages/sklearn/externals/joblib/externals/cloudpickle/cloudpickle.py:47: DeprecationWarning: the imp module is deprecated in favour of importlib; see the module's documentation for alternative uses\n",
            "  import imp\u001b[0m\n",
            "\u001b[34m/miniconda3/lib/python3.7/site-packages/sklearn/externals/joblib/numpy_pickle.py:104: DeprecationWarning: tostring() is deprecated. Use tobytes() instead.\n",
            "  pickler.file_handle.write(chunk.tostring('C'))\u001b[0m\n",
            "\u001b[34m/miniconda3/lib/python3.7/site-packages/sklearn/externals/joblib/numpy_pickle.py:104: DeprecationWarning: tostring() is deprecated. Use tobytes() instead.\n",
            "  pickler.file_handle.write(chunk.tostring('C'))\u001b[0m\n",
            "\u001b[34m/miniconda3/lib/python3.7/site-packages/sklearn/externals/joblib/numpy_pickle.py:104: DeprecationWarning: tostring() is deprecated. Use tobytes() instead.\n",
            "  pickler.file_handle.write(chunk.tostring('C'))\u001b[0m\n",
            "\u001b[34m2021-03-06 12:17:50,076 sagemaker-training-toolkit INFO     Reporting training SUCCESS\u001b[0m\n",
            "\n",
            "2021-03-06 12:17:58 Uploading - Uploading generated training model\n",
            "2021-03-06 12:17:58 Completed - Training job completed\n",
            "Training seconds: 42\n",
            "Billable seconds: 42\n",
            "CPU times: user 436 ms, sys: 3.59 ms, total: 439 ms\n",
            "Wall time: 3min 11s\n"
          ],
          "name": "stdout"
        }
      ]
    },
    {
      "cell_type": "markdown",
      "metadata": {
        "id": "1oMXNh-Q0A-z"
      },
      "source": [
        "## EXERCISE: Deploy the trained model\n",
        "\n",
        "After training, deploy your model to create a `predictor`. If you're using a PyTorch model, you'll need to create a trained `PyTorchModel` that accepts the trained `<model>.model_data` as an input parameter and points to the provided `source_pytorch/predict.py` file as an entry point. \n",
        "\n",
        "To deploy a trained model, you'll use `<model>.deploy`, which takes in two arguments:\n",
        "* **initial_instance_count**: The number of deployed instances (1).\n",
        "* **instance_type**: The type of SageMaker instance for deployment.\n",
        "\n",
        "Note: If you run into an instance error, it may be because you chose the wrong training or deployment instance_type. It may help to refer to your previous exercise code to see which types of instances we used."
      ]
    },
    {
      "cell_type": "code",
      "metadata": {
        "id": "6Pb1_2y60A-z",
        "outputId": "fcc79a6c-a906-49fe-da2e-4dbfcc834a50"
      },
      "source": [
        "%%time\n",
        "\n",
        "# uncomment, if needed\n",
        "# from sagemaker.pytorch import PyTorchModel\n",
        "\n",
        "\n",
        "# deploy your model to create a predictor\n",
        "predictor = estimator.deploy(initial_instance_count=1, instance_type='ml.t2.medium')"
      ],
      "execution_count": null,
      "outputs": [
        {
          "output_type": "stream",
          "text": [
            "---------------!CPU times: user 270 ms, sys: 3.49 ms, total: 274 ms\n",
            "Wall time: 7min 32s\n"
          ],
          "name": "stdout"
        }
      ]
    },
    {
      "cell_type": "markdown",
      "metadata": {
        "id": "Uz_4gxmw0A-z"
      },
      "source": [
        "---\n",
        "# Evaluating Your Model\n",
        "\n",
        "Once your model is deployed, you can see how it performs when applied to our test data.\n",
        "\n",
        "The provided cell below, reads in the test data, assuming it is stored locally in `data_dir` and named `test.csv`. The labels and features are extracted from the `.csv` file."
      ]
    },
    {
      "cell_type": "code",
      "metadata": {
        "id": "HpJsaq0P0A-z"
      },
      "source": [
        "\"\"\"\n",
        "DON'T MODIFY ANYTHING IN THIS CELL THAT IS BELOW THIS LINE\n",
        "\"\"\"\n",
        "import os\n",
        "\n",
        "# read in test data, assuming it is stored locally\n",
        "test_data = pd.read_csv(os.path.join(data_dir, \"test.csv\"), header=None, names=None)\n",
        "\n",
        "# labels are in the first column\n",
        "test_y = test_data.iloc[:,0]\n",
        "test_x = test_data.iloc[:,1:]"
      ],
      "execution_count": null,
      "outputs": []
    },
    {
      "cell_type": "markdown",
      "metadata": {
        "id": "ma0dWM060A-z"
      },
      "source": [
        "## EXERCISE: Determine the accuracy of your model\n",
        "\n",
        "Use your deployed `predictor` to generate predicted, class labels for the test data. Compare those to the *true* labels, `test_y`, and calculate the accuracy as a value between 0 and 1.0 that indicates the fraction of test data that your model classified correctly. You may use [sklearn.metrics](https://scikit-learn.org/stable/modules/classes.html#module-sklearn.metrics) for this calculation.\n",
        "\n",
        "**To pass this project, your model should get at least 90% test accuracy.**"
      ]
    },
    {
      "cell_type": "code",
      "metadata": {
        "id": "7Sps0NBl0A-0",
        "outputId": "5d5070ae-a591-4954-ce2b-58202a0c74f9"
      },
      "source": [
        "test_y_preds = predictor.predict(test_x)\n",
        "\n",
        "\n",
        "\"\"\"\n",
        "DON'T MODIFY ANYTHING IN THIS CELL THAT IS BELOW THIS LINE\n",
        "\"\"\"\n",
        "# test that your model generates the correct number of labels\n",
        "assert len(test_y_preds)==len(test_y), 'Unexpected number of predictions.'\n",
        "print('Test passed!')"
      ],
      "execution_count": null,
      "outputs": [
        {
          "output_type": "stream",
          "text": [
            "Test passed!\n"
          ],
          "name": "stdout"
        }
      ]
    },
    {
      "cell_type": "code",
      "metadata": {
        "id": "B5iJshAZ0A-0",
        "outputId": "62244f7d-69f5-4d7e-eb1a-cbb468d0d31a"
      },
      "source": [
        "# Second: calculate the test accuracy\n",
        "from sklearn.metrics import accuracy_score\n",
        "accuracy = accuracy_score(test_y, test_y_preds)\n",
        "\n",
        "print(accuracy)\n",
        "\n",
        "\n",
        "## print out the array of predicted and true labels, if you want\n",
        "print('\\nPredicted class labels: ')\n",
        "print(test_y_preds)\n",
        "print('\\nTrue class labels: ')\n",
        "print(test_y.values)# Second: calculate the test accuracy\n",
        "accuracy = None\n",
        "\n",
        "print(accuracy)\n",
        "\n",
        "\n",
        "## print out the array of predicted and true labels, if you want\n",
        "print('\\nPredicted class labels: ')\n",
        "print(test_y_preds)\n",
        "print('\\nTrue class labels: ')\n",
        "print(test_y.values)"
      ],
      "execution_count": null,
      "outputs": [
        {
          "output_type": "stream",
          "text": [
            "0.96\n",
            "\n",
            "Predicted class labels: \n",
            "[1 1 1 1 1 1 0 0 0 0 0 0 0 1 1 1 1 1 0 1 0 1 1 0 0]\n",
            "\n",
            "True class labels: \n",
            "[1 1 1 1 1 1 0 0 0 0 0 0 1 1 1 1 1 1 0 1 0 1 1 0 0]\n",
            "None\n",
            "\n",
            "Predicted class labels: \n",
            "[1 1 1 1 1 1 0 0 0 0 0 0 0 1 1 1 1 1 0 1 0 1 1 0 0]\n",
            "\n",
            "True class labels: \n",
            "[1 1 1 1 1 1 0 0 0 0 0 0 1 1 1 1 1 1 0 1 0 1 1 0 0]\n"
          ],
          "name": "stdout"
        }
      ]
    },
    {
      "cell_type": "markdown",
      "metadata": {
        "id": "TUJk7ZPj0A-0"
      },
      "source": [
        "### Question 1: How many false positives and false negatives did your model produce, if any? And why do you think this is?"
      ]
    },
    {
      "cell_type": "markdown",
      "metadata": {
        "id": "zDmy3BGg0A-0"
      },
      "source": [
        "** Answer**: Accuracy can be loosely defined as the items identified correctly over the totality of the items in the data pool.\n",
        "(True Positives+True Negatives)/(True Positives+True Negatives+False Positives+False Negatives)\n",
        "An accuracy of 96% means my model mistankinggly classified plagiarized text on 4% of the data entries.\n",
        "there is a chance there is some class-imbalance that is skewing the data leading to the less than 100% accuracy.\n",
        "On the other hand I am of the opinion that an accuracy of 100% is a sign of over-fitted data, so this is a pretty good value¶\n"
      ]
    },
    {
      "cell_type": "markdown",
      "metadata": {
        "id": "KhsTw0YN0A-0"
      },
      "source": [
        "### Question 2: How did you decide on the type of model to use? "
      ]
    },
    {
      "cell_type": "markdown",
      "metadata": {
        "id": "CHG-TtlM0A-1"
      },
      "source": [
        "** Answer**This data set is not very big and we are exploring a pretty small number of features, SVM is robust and accurate (but very morose when it comes to big datasets, since the size of data is not an issue here it seemed like a good option)\n",
        "SVM is also a naturally good approach for classification problems which is the case of this plagiarism problem.\n",
        "\n"
      ]
    },
    {
      "cell_type": "markdown",
      "metadata": {
        "id": "0NThBZYC0A-1"
      },
      "source": [
        "----\n",
        "## EXERCISE: Clean up Resources\n",
        "\n",
        "After you're done evaluating your model, **delete your model endpoint**. You can do this with a call to `.delete_endpoint()`. You need to show, in this notebook, that the endpoint was deleted. Any other resources, you may delete from the AWS console, and you will find more instructions on cleaning up all your resources, below."
      ]
    },
    {
      "cell_type": "code",
      "metadata": {
        "id": "8yY8L3K60A-1"
      },
      "source": [
        "# uncomment and fill in the line below!\n",
        "# <name_of_deployed_predictor>.delete_endpoint()\n",
        "predictor.delete_endpoint()"
      ],
      "execution_count": null,
      "outputs": []
    },
    {
      "cell_type": "markdown",
      "metadata": {
        "id": "ETel9SMr0A-1"
      },
      "source": [
        "### Deleting S3 bucket\n",
        "\n",
        "When you are *completely* done with training and testing models, you can also delete your entire S3 bucket. If you do this before you are done training your model, you'll have to recreate your S3 bucket and upload your training data again."
      ]
    },
    {
      "cell_type": "code",
      "metadata": {
        "id": "guUVPSBg0A-1",
        "outputId": "84a5c226-7998-44ea-fd76-7c0071318f76"
      },
      "source": [
        "# deleting bucket, uncomment lines below\n",
        "\n",
        "# bucket_to_delete = boto3.resource('s3').Bucket(bucket)\n",
        "# bucket_to_delete.objects.all().delete()\n",
        "# deleting bucket, uncomment lines below\n",
        "\n",
        "bucket_to_delete = boto3.resource('s3').Bucket(bucket)\n",
        "bucket_to_delete.objects.all().delete()"
      ],
      "execution_count": null,
      "outputs": [
        {
          "output_type": "execute_result",
          "data": {
            "text/plain": [
              "[{'ResponseMetadata': {'RequestId': '370C9DCD4180B9D6',\n",
              "   'HostId': '+ZLISsy1hOkl36h4iyqGBYMru0trnwT+OBbLvDvkBu5rTzJxwf4W2NjbfroYFKq17BnXXYbVLFk=',\n",
              "   'HTTPStatusCode': 200,\n",
              "   'HTTPHeaders': {'x-amz-id-2': '+ZLISsy1hOkl36h4iyqGBYMru0trnwT+OBbLvDvkBu5rTzJxwf4W2NjbfroYFKq17BnXXYbVLFk=',\n",
              "    'x-amz-request-id': '370C9DCD4180B9D6',\n",
              "    'date': 'Sat, 06 Mar 2021 12:58:10 GMT',\n",
              "    'content-type': 'application/xml',\n",
              "    'transfer-encoding': 'chunked',\n",
              "    'server': 'AmazonS3',\n",
              "    'connection': 'close'},\n",
              "   'RetryAttempts': 0},\n",
              "  'Deleted': [{'Key': 'sagemaker-pytorch-2021-02-02-19-29-52-782/debug-output/training_job_end.ts'},\n",
              "   {'Key': 'sagemaker-pytorch-2021-02-07-09-03-17-968/sourcedir.tar.gz'},\n",
              "   {'Key': 'sagemaker-pytorch-2021-02-02-19-50-10-053/sourcedir.tar.gz'},\n",
              "   {'Key': 'plagiarism_detection/train.csv'},\n",
              "   {'Key': 'sagemaker-scikit-learn-2021-03-06-10-25-41-626/profiler-output/system/incremental/2021030610/1615026420.algo-1.json'},\n",
              "   {'Key': 'sagemaker-pytorch-2021-02-07-15-26-40-432/source/sourcedir.tar.gz'},\n",
              "   {'Key': 'sagemaker-pytorch-2021-02-09-09-52-16-146/sourcedir.tar.gz'},\n",
              "   {'Key': 'sagemaker/sentiment_rnn/train.csv'},\n",
              "   {'Key': 'plagiarism_detection/test.csv'},\n",
              "   {'Key': 'sagemaker-pytorch-2021-02-09-08-47-59-004/output/model.tar.gz'},\n",
              "   {'Key': 'sagemaker-scikit-learn-2021-03-06-10-25-41-626/rule-output/ProfilerReport-1615026341/profiler-output/profiler-reports/LoadBalancing.json'},\n",
              "   {'Key': 'sagemaker-pytorch-2021-02-07-15-26-40-432/debug-output/training_job_end.ts'},\n",
              "   {'Key': 'sagemaker-pytorch-2021-02-02-19-37-57-021/sourcedir.tar.gz'},\n",
              "   {'Key': 'plagiarism_detection/sagemaker-scikit-learn-2021-03-06-12-15-12-880/output/model.tar.gz'},\n",
              "   {'Key': 'sagemaker-pytorch-2021-02-09-06-00-57-322/sourcedir.tar.gz'},\n",
              "   {'Key': 'sagemaker-pytorch-2021-02-02-19-29-52-782/output/model.tar.gz'},\n",
              "   {'Key': 'sagemaker/sentiment_rnn/word_dict.pkl'},\n",
              "   {'Key': 'sagemaker-scikit-learn-2021-03-06-10-25-41-626/rule-output/ProfilerReport-1615026341/profiler-output/profiler-reports/BatchSize.json'},\n",
              "   {'Key': 'sagemaker-pytorch-2021-02-09-08-47-59-004/source/sourcedir.tar.gz'},\n",
              "   {'Key': 'plagiarism_detection/sagemaker-scikit-learn-2021-03-06-12-15-12-880/debug-output/training_job_end.ts'},\n",
              "   {'Key': 'sagemaker-pytorch-2021-02-09-09-41-09-166/sourcedir.tar.gz'},\n",
              "   {'Key': 'sagemaker-pytorch-2021-02-04-06-03-53-633/sourcedir.tar.gz'},\n",
              "   {'Key': 'sagemaker-scikit-learn-2021-03-06-10-25-41-626/rule-output/ProfilerReport-1615026341/profiler-output/profiler-reports/MaxInitializationTime.json'},\n",
              "   {'Key': 'sagemaker-scikit-learn-2021-03-06-10-25-41-626/rule-output/ProfilerReport-1615026341/profiler-output/profiler-reports/GPUMemoryIncrease.json'},\n",
              "   {'Key': 'sagemaker-scikit-learn-2021-03-06-10-25-41-626/rule-output/ProfilerReport-1615026341/profiler-output/profiler-reports/LowGPUUtilization.json'},\n",
              "   {'Key': 'sagemaker-scikit-learn-2021-03-06-10-25-41-626/rule-output/ProfilerReport-1615026341/profiler-output/profiler-reports/StepOutlier.json'},\n",
              "   {'Key': 'sagemaker-scikit-learn-2021-03-06-10-25-41-626/rule-output/ProfilerReport-1615026341/profiler-output/profiler-reports/OverallFrameworkMetrics.json'},\n",
              "   {'Key': 'sagemaker-pytorch-2021-02-07-08-45-46-089/source/sourcedir.tar.gz'},\n",
              "   {'Key': 'sagemaker-pytorch-2021-02-09-05-53-12-697/debug-output/training_job_end.ts'},\n",
              "   {'Key': 'sagemaker-pytorch-2021-02-09-05-53-12-697/output/model.tar.gz'},\n",
              "   {'Key': 'plagiarism_detection/sagemaker-scikit-learn-2021-03-06-12-15-12-880/profiler-output/system/incremental/2021030612/1615033020.algo-1.json'},\n",
              "   {'Key': 'sagemaker-pytorch-2021-02-07-08-53-30-652/sourcedir.tar.gz'},\n",
              "   {'Key': 'sagemaker-pytorch-2021-02-09-09-21-51-544/sourcedir.tar.gz'},\n",
              "   {'Key': 'sagemaker-pytorch-2021-02-03-10-11-48-014/sourcedir.tar.gz'},\n",
              "   {'Key': 'sagemaker-pytorch-2021-02-07-15-42-31-362/sourcedir.tar.gz'},\n",
              "   {'Key': 'sagemaker-scikit-learn-2021-03-06-10-25-41-626/profiler-output/system/incremental/2021030610/1615026480.algo-1.json'},\n",
              "   {'Key': 'sagemaker-scikit-learn-2021-03-06-10-25-41-626/rule-output/ProfilerReport-1615026341/profiler-output/profiler-report.html'},\n",
              "   {'Key': 'sagemaker-scikit-learn-2021-03-06-10-25-41-626/rule-output/ProfilerReport-1615026341/profiler-output/profiler-reports/Dataloader.json'},\n",
              "   {'Key': 'sagemaker-scikit-learn-2021-03-06-10-25-41-626/rule-output/ProfilerReport-1615026341/profiler-output/profiler-reports/CPUBottleneck.json'},\n",
              "   {'Key': 'sagemaker-pytorch-2021-02-07-08-45-46-089/output/model.tar.gz'},\n",
              "   {'Key': 'sagemaker-scikit-learn-2021-03-06-12-15-12-880/source/sourcedir.tar.gz'},\n",
              "   {'Key': 'plagiarism_detection/sagemaker-scikit-learn-2021-03-06-12-15-12-880/profiler-output/system/training_job_end.ts'},\n",
              "   {'Key': 'sagemaker-pytorch-2021-02-09-08-53-12-654/sourcedir.tar.gz'},\n",
              "   {'Key': 'sagemaker-pytorch-2021-02-09-08-47-59-004/debug-output/training_job_end.ts'},\n",
              "   {'Key': 'sagemaker-scikit-learn-2021-03-06-10-25-41-626/rule-output/ProfilerReport-1615026341/profiler-output/profiler-reports/OverallSystemUsage.json'},\n",
              "   {'Key': 'sagemaker-pytorch-2021-02-09-05-53-12-697/source/sourcedir.tar.gz'},\n",
              "   {'Key': 'sagemaker-pytorch-2021-02-09-10-03-41-845/sourcedir.tar.gz'},\n",
              "   {'Key': 'sagemaker-pytorch-2021-02-07-08-45-46-089/debug-output/training_job_end.ts'},\n",
              "   {'Key': 'sagemaker-scikit-learn-2021-03-06-10-25-41-626/rule-output/ProfilerReport-1615026341/profiler-output/profiler-reports/IOBottleneck.json'},\n",
              "   {'Key': 'sagemaker-pytorch-2021-02-07-15-20-08-549/sourcedir.tar.gz'},\n",
              "   {'Key': 'sagemaker-pytorch-2021-02-09-08-11-35-510/sourcedir.tar.gz'},\n",
              "   {'Key': 'sagemaker-scikit-learn-2021-03-06-10-25-41-626/rule-output/ProfilerReport-1615026341/profiler-output/profiler-report.ipynb'},\n",
              "   {'Key': 'sagemaker-scikit-learn-2021-03-06-10-25-41-626/source/sourcedir.tar.gz'},\n",
              "   {'Key': 'plagiarism_detection/sagemaker-scikit-learn-2021-03-06-12-15-12-880/profiler-output/framework/training_job_end.ts'},\n",
              "   {'Key': 'sagemaker-pytorch-2021-02-07-15-26-40-432/output/model.tar.gz'},\n",
              "   {'Key': 'sagemaker-pytorch-2021-02-07-08-09-00-829/sourcedir.tar.gz'},\n",
              "   {'Key': 'sagemaker-pytorch-2021-02-02-19-29-52-782/source/sourcedir.tar.gz'}]}]"
            ]
          },
          "metadata": {
            "tags": []
          },
          "execution_count": 50
        }
      ]
    },
    {
      "cell_type": "markdown",
      "metadata": {
        "id": "H0URcaCo0A-2"
      },
      "source": [
        "### Deleting all your models and instances\n",
        "\n",
        "When you are _completely_ done with this project and do **not** ever want to revisit this notebook, you can choose to delete all of your SageMaker notebook instances and models by following [these instructions](https://docs.aws.amazon.com/sagemaker/latest/dg/ex1-cleanup.html). Before you delete this notebook instance, I recommend at least downloading a copy and saving it, locally."
      ]
    },
    {
      "cell_type": "markdown",
      "metadata": {
        "id": "NPnAVenx0A-2"
      },
      "source": [
        "---\n",
        "## Further Directions\n",
        "\n",
        "There are many ways to improve or add on to this project to expand your learning or make this more of a unique project for you. A few ideas are listed below:\n",
        "* Train a classifier to predict the *category* (1-3) of plagiarism and not just plagiarized (1) or not (0).\n",
        "* Utilize a different and larger dataset to see if this model can be extended to other types of plagiarism.\n",
        "* Use language or character-level analysis to find different (and more) similarity features.\n",
        "* Write a complete pipeline function that accepts a source text and submitted text file, and classifies the submitted text as plagiarized or not.\n",
        "* Use API Gateway and a lambda function to deploy your model to a web application.\n",
        "\n",
        "These are all just options for extending your work. If you've completed all the exercises in this notebook, you've completed a real-world application, and can proceed to submit your project. Great job!"
      ]
    }
  ]
}